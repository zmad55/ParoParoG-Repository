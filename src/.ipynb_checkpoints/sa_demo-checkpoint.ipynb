{
 "cells": [
  {
   "cell_type": "code",
   "execution_count": 1,
   "metadata": {
    "executionInfo": {
     "elapsed": 3572,
     "status": "ok",
     "timestamp": 1647220453791,
     "user": {
      "displayName": "JOSEPHINE DELA CRUZ",
      "photoUrl": "https://lh3.googleusercontent.com/a-/AOh14GhIcECO_6D0yRhFs6wBuPf8GVCqxE0zoVvxhenSJg=s64",
      "userId": "00981094765647291929"
     },
     "user_tz": -480
    },
    "id": "7rxxG56ufbDE"
   },
   "outputs": [],
   "source": [
    "from google.colab import drive\n",
    "import tensorflow as tf\n",
    "from tensorflow.keras.preprocessing.text import Tokenizer"
   ]
  },
  {
   "cell_type": "code",
   "execution_count": null,
   "metadata": {
    "id": "3xtrbKi2fl6s"
   },
   "outputs": [],
   "source": [
    "x = [\"I am very happy today\", \"No, I do not like the movie\"]\n",
    "y = [1,0]"
   ]
  },
  {
   "cell_type": "code",
   "execution_count": null,
   "metadata": {
    "id": "WELtVi0nfwtU"
   },
   "outputs": [],
   "source": [
    "#Create a tokenizer, configured to only take into account the 20 most common words\n",
    "tokenizer = Tokenizer(num_words=20)"
   ]
  },
  {
   "cell_type": "code",
   "execution_count": null,
   "metadata": {
    "id": "VHFemi3Vf0Ya"
   },
   "outputs": [],
   "source": [
    "#Build the word index\n",
    "tokenizer.fit_on_texts(x)"
   ]
  },
  {
   "cell_type": "code",
   "execution_count": null,
   "metadata": {
    "id": "ZAB0YBYUf3M8"
   },
   "outputs": [],
   "source": [
    "#Turns strings into lists of integer indices\n",
    "sequences = tokenizer.texts_to_sequences(x)"
   ]
  },
  {
   "cell_type": "code",
   "execution_count": null,
   "metadata": {
    "colab": {
     "base_uri": "https://localhost:8080/"
    },
    "executionInfo": {
     "elapsed": 411,
     "status": "ok",
     "timestamp": 1647161884141,
     "user": {
      "displayName": "JOSEPHINE DELA CRUZ",
      "photoUrl": "https://lh3.googleusercontent.com/a-/AOh14GhIcECO_6D0yRhFs6wBuPf8GVCqxE0zoVvxhenSJg=s64",
      "userId": "00981094765647291929"
     },
     "user_tz": -480
    },
    "id": "U9G_FcK5f6tV",
    "outputId": "96b8e060-1e23-4cf6-cdbd-9c22b674e166"
   },
   "outputs": [
    {
     "name": "stdout",
     "output_type": "stream",
     "text": [
      "{'i': 1, 'am': 2, 'very': 3, 'happy': 4, 'today': 5, 'no': 6, 'do': 7, 'not': 8, 'like': 9, 'the': 10, 'movie': 11}\n",
      "Found 11 unique tokens.\n"
     ]
    }
   ],
   "source": [
    "# Show the vocabulory\n",
    "word_index = tokenizer.word_index\n",
    "print(tokenizer.word_index)\n",
    "print('Found %s unique tokens.' % len(word_index))"
   ]
  },
  {
   "cell_type": "code",
   "execution_count": null,
   "metadata": {
    "colab": {
     "base_uri": "https://localhost:8080/"
    },
    "executionInfo": {
     "elapsed": 306,
     "status": "ok",
     "timestamp": 1647161906480,
     "user": {
      "displayName": "JOSEPHINE DELA CRUZ",
      "photoUrl": "https://lh3.googleusercontent.com/a-/AOh14GhIcECO_6D0yRhFs6wBuPf8GVCqxE0zoVvxhenSJg=s64",
      "userId": "00981094765647291929"
     },
     "user_tz": -480
    },
    "id": "flpoOcEagAfU",
    "outputId": "982f2fe7-0b8a-4a20-a7e7-23f663b5362a"
   },
   "outputs": [
    {
     "name": "stdout",
     "output_type": "stream",
     "text": [
      "[[1, 2, 3, 4, 5], [6, 1, 7, 8, 9, 10, 11]]\n"
     ]
    }
   ],
   "source": [
    "print(sequences)"
   ]
  },
  {
   "cell_type": "code",
   "execution_count": null,
   "metadata": {
    "colab": {
     "base_uri": "https://localhost:8080/"
    },
    "executionInfo": {
     "elapsed": 382,
     "status": "ok",
     "timestamp": 1647161923457,
     "user": {
      "displayName": "JOSEPHINE DELA CRUZ",
      "photoUrl": "https://lh3.googleusercontent.com/a-/AOh14GhIcECO_6D0yRhFs6wBuPf8GVCqxE0zoVvxhenSJg=s64",
      "userId": "00981094765647291929"
     },
     "user_tz": -480
    },
    "id": "nRep5Jg6gEis",
    "outputId": "7fb864e2-0942-457e-b7b9-12be227578af"
   },
   "outputs": [
    {
     "name": "stdout",
     "output_type": "stream",
     "text": [
      "7\n"
     ]
    }
   ],
   "source": [
    "# Identify max length of reviews\n",
    "max_length = 0\n",
    "for review_number in range(len(sequences)):\n",
    "  numberofwords=len(sequences[review_number])\n",
    "  if (numberofwords) > (max_length):\n",
    "    max_length = numberofwords\n",
    "print(max_length)"
   ]
  },
  {
   "cell_type": "code",
   "execution_count": null,
   "metadata": {
    "colab": {
     "base_uri": "https://localhost:8080/"
    },
    "executionInfo": {
     "elapsed": 510,
     "status": "ok",
     "timestamp": 1647161937998,
     "user": {
      "displayName": "JOSEPHINE DELA CRUZ",
      "photoUrl": "https://lh3.googleusercontent.com/a-/AOh14GhIcECO_6D0yRhFs6wBuPf8GVCqxE0zoVvxhenSJg=s64",
      "userId": "00981094765647291929"
     },
     "user_tz": -480
    },
    "id": "SdcMWRtcgIKc",
    "outputId": "9ccf4cef-ac7c-47d5-f73c-2345182588de"
   },
   "outputs": [
    {
     "name": "stdout",
     "output_type": "stream",
     "text": [
      "[[ 0  0  1  2  3  4  5]\n",
      " [ 6  1  7  8  9 10 11]]\n",
      "Shape of data tensor: (2, 7)\n",
      "Shape of label tensor: (2,)\n"
     ]
    }
   ],
   "source": [
    "# Padding the sequence for shorter reviews \n",
    "from tensorflow.keras.preprocessing.sequence import pad_sequences\n",
    "import numpy as np\n",
    "data = pad_sequences(sequences, maxlen=max_length)\n",
    "y = np.asarray(y)\n",
    "print(data)\n",
    "print('Shape of data tensor:', data.shape)\n",
    "print('Shape of label tensor:', y.shape)"
   ]
  },
  {
   "cell_type": "code",
   "execution_count": null,
   "metadata": {
    "id": "txMOAXx-ginK"
   },
   "outputs": [],
   "source": [
    "# Load my word embeddings\n",
    "import gensim\n",
    "wordembeddings = gensim.models.KeyedVectors.load_word2vec_format(\"https://s3.amazonaws.com/dl4j-distribution/GoogleNews-vectors-negative300.bin.gz\", binary=True)"
   ]
  },
  {
   "cell_type": "code",
   "execution_count": null,
   "metadata": {
    "colab": {
     "base_uri": "https://localhost:8080/"
    },
    "executionInfo": {
     "elapsed": 347,
     "status": "ok",
     "timestamp": 1647162396853,
     "user": {
      "displayName": "JOSEPHINE DELA CRUZ",
      "photoUrl": "https://lh3.googleusercontent.com/a-/AOh14GhIcECO_6D0yRhFs6wBuPf8GVCqxE0zoVvxhenSJg=s64",
      "userId": "00981094765647291929"
     },
     "user_tz": -480
    },
    "id": "lNzp1A8yh4Fs",
    "outputId": "f3ac2ad9-4b3e-46c3-cf95-68cd92d453d8"
   },
   "outputs": [
    {
     "name": "stdout",
     "output_type": "stream",
     "text": [
      "Embeddings Matrix shape :  (12, 300)\n"
     ]
    }
   ],
   "source": [
    "# Converting data to matrix of shape (12,300) where 12 is number of words in vocaboulry + 1 and 300 word vector for each word\n",
    "unique_words = len(word_index)\n",
    "total_words = unique_words + 1\n",
    "skipped_words = 0\n",
    "embedding_dim = 300  \n",
    "embedding_matrix = np.zeros((total_words, embedding_dim))\n",
    "for word, index in tokenizer.word_index.items():\n",
    "  try:\n",
    "    embedding_vector = wordembeddings[word]\n",
    "  except:\n",
    "    skipped_words = skipped_words+1\n",
    "    pass\n",
    "  if embedding_vector is not None:\n",
    "    embedding_matrix[index] = embedding_vector\n",
    "print(\"Embeddings Matrix shape : \",embedding_matrix.shape)"
   ]
  },
  {
   "cell_type": "code",
   "execution_count": null,
   "metadata": {
    "colab": {
     "base_uri": "https://localhost:8080/"
    },
    "executionInfo": {
     "elapsed": 362,
     "status": "ok",
     "timestamp": 1647162417744,
     "user": {
      "displayName": "JOSEPHINE DELA CRUZ",
      "photoUrl": "https://lh3.googleusercontent.com/a-/AOh14GhIcECO_6D0yRhFs6wBuPf8GVCqxE0zoVvxhenSJg=s64",
      "userId": "00981094765647291929"
     },
     "user_tz": -480
    },
    "id": "-CnZmpGXh9Nk",
    "outputId": "0fa9fc93-316c-4d25-97b4-591b1186edd0"
   },
   "outputs": [
    {
     "name": "stderr",
     "output_type": "stream",
     "text": [
      "/usr/local/lib/python3.7/dist-packages/ipykernel_launcher.py:1: DeprecationWarning: Call to deprecated `wv` (Attribute will be removed in 4.0.0, use self instead).\n",
      "  \"\"\"Entry point for launching an IPython kernel.\n"
     ]
    },
    {
     "data": {
      "text/plain": [
       "array([0., 0., 0., 0., 0., 0., 0., 0., 0., 0., 0., 0., 0., 0., 0., 0., 0.,\n",
       "       0., 0., 0., 0., 0., 0., 0., 0., 0., 0., 0., 0., 0., 0., 0., 0., 0.,\n",
       "       0., 0., 0., 0., 0., 0., 0., 0., 0., 0., 0., 0., 0., 0., 0., 0., 0.,\n",
       "       0., 0., 0., 0., 0., 0., 0., 0., 0., 0., 0., 0., 0., 0., 0., 0., 0.,\n",
       "       0., 0., 0., 0., 0., 0., 0., 0., 0., 0., 0., 0., 0., 0., 0., 0., 0.,\n",
       "       0., 0., 0., 0., 0., 0., 0., 0., 0., 0., 0., 0., 0., 0., 0., 0., 0.,\n",
       "       0., 0., 0., 0., 0., 0., 0., 0., 0., 0., 0., 0., 0., 0., 0., 0., 0.,\n",
       "       0., 0., 0., 0., 0., 0., 0., 0., 0., 0., 0., 0., 0., 0., 0., 0., 0.,\n",
       "       0., 0., 0., 0., 0., 0., 0., 0., 0., 0., 0., 0., 0., 0., 0., 0., 0.,\n",
       "       0., 0., 0., 0., 0., 0., 0., 0., 0., 0., 0., 0., 0., 0., 0., 0., 0.,\n",
       "       0., 0., 0., 0., 0., 0., 0., 0., 0., 0., 0., 0., 0., 0., 0., 0., 0.,\n",
       "       0., 0., 0., 0., 0., 0., 0., 0., 0., 0., 0., 0., 0., 0., 0., 0., 0.,\n",
       "       0., 0., 0., 0., 0., 0., 0., 0., 0., 0., 0., 0., 0., 0., 0., 0., 0.,\n",
       "       0., 0., 0., 0., 0., 0., 0., 0., 0., 0., 0., 0., 0., 0., 0., 0., 0.,\n",
       "       0., 0., 0., 0., 0., 0., 0., 0., 0., 0., 0., 0., 0., 0., 0., 0., 0.,\n",
       "       0., 0., 0., 0., 0., 0., 0., 0., 0., 0., 0., 0., 0., 0., 0., 0., 0.,\n",
       "       0., 0., 0., 0., 0., 0., 0., 0., 0., 0., 0., 0., 0., 0., 0., 0., 0.,\n",
       "       0., 0., 0., 0., 0., 0., 0., 0., 0., 0., 0.])"
      ]
     },
     "execution_count": 13,
     "metadata": {},
     "output_type": "execute_result"
    }
   ],
   "source": [
    "embedding_matrix[3]-wordembeddings.wv['very']"
   ]
  },
  {
   "cell_type": "code",
   "execution_count": null,
   "metadata": {
    "id": "CXCV_3eliB_T"
   },
   "outputs": [],
   "source": [
    "from tensorflow.keras.layers import *\n",
    "# create the embedding layer\n",
    "embedding_layer = Embedding(total_words, embedding_dim, weights=[embedding_matrix], input_length=max_length, trainable=False)"
   ]
  },
  {
   "cell_type": "code",
   "execution_count": null,
   "metadata": {
    "colab": {
     "base_uri": "https://localhost:8080/"
    },
    "executionInfo": {
     "elapsed": 889,
     "status": "ok",
     "timestamp": 1647162456947,
     "user": {
      "displayName": "JOSEPHINE DELA CRUZ",
      "photoUrl": "https://lh3.googleusercontent.com/a-/AOh14GhIcECO_6D0yRhFs6wBuPf8GVCqxE0zoVvxhenSJg=s64",
      "userId": "00981094765647291929"
     },
     "user_tz": -480
    },
    "id": "0wTtqoF0iGpN",
    "outputId": "51425a30-2ff8-43cb-efe2-1c61e2845f64"
   },
   "outputs": [
    {
     "name": "stdout",
     "output_type": "stream",
     "text": [
      "Model: \"sequential\"\n",
      "_________________________________________________________________\n",
      " Layer (type)                Output Shape              Param #   \n",
      "=================================================================\n",
      " embedding (Embedding)       (None, 7, 300)            3600      \n",
      "                                                                 \n",
      " simple_rnn (SimpleRNN)      (None, 7, 128)            54912     \n",
      "                                                                 \n",
      " simple_rnn_1 (SimpleRNN)    (None, 256)               98560     \n",
      "                                                                 \n",
      " dense (Dense)               (None, 1)                 257       \n",
      "                                                                 \n",
      "=================================================================\n",
      "Total params: 157,329\n",
      "Trainable params: 153,729\n",
      "Non-trainable params: 3,600\n",
      "_________________________________________________________________\n",
      "None\n"
     ]
    }
   ],
   "source": [
    "from tensorflow.keras.models import *\n",
    "from tensorflow.keras.layers import *\n",
    "# define model\n",
    "model = Sequential()\n",
    "model.add(embedding_layer)\n",
    "model.add(SimpleRNN(128,activation='relu',return_sequences= True))\n",
    "model.add(SimpleRNN(256,activation='relu'))\n",
    "model.add(Dense(1, activation='sigmoid'))\n",
    "print(model.summary())"
   ]
  },
  {
   "cell_type": "code",
   "execution_count": null,
   "metadata": {
    "colab": {
     "base_uri": "https://localhost:8080/"
    },
    "executionInfo": {
     "elapsed": 2727,
     "status": "ok",
     "timestamp": 1647162880906,
     "user": {
      "displayName": "JOSEPHINE DELA CRUZ",
      "photoUrl": "https://lh3.googleusercontent.com/a-/AOh14GhIcECO_6D0yRhFs6wBuPf8GVCqxE0zoVvxhenSJg=s64",
      "userId": "00981094765647291929"
     },
     "user_tz": -480
    },
    "id": "em6H9M4diMsc",
    "outputId": "2a02aac6-37e3-4b76-c955-8c5c4ab40b39"
   },
   "outputs": [
    {
     "name": "stdout",
     "output_type": "stream",
     "text": [
      "Epoch 1/10\n"
     ]
    },
    {
     "name": "stderr",
     "output_type": "stream",
     "text": [
      "/usr/local/lib/python3.7/dist-packages/keras/optimizer_v2/gradient_descent.py:102: UserWarning: The `lr` argument is deprecated, use `learning_rate` instead.\n",
      "  super(SGD, self).__init__(name, **kwargs)\n"
     ]
    },
    {
     "name": "stdout",
     "output_type": "stream",
     "text": [
      "1/1 [==============================] - 2s 2s/step - loss: 0.6828 - accuracy: 0.5000\n",
      "Epoch 2/10\n",
      "1/1 [==============================] - 0s 17ms/step - loss: 0.6515 - accuracy: 0.5000\n",
      "Epoch 3/10\n",
      "1/1 [==============================] - 0s 24ms/step - loss: 0.6237 - accuracy: 1.0000\n",
      "Epoch 4/10\n",
      "1/1 [==============================] - 0s 18ms/step - loss: 0.5993 - accuracy: 1.0000\n",
      "Epoch 5/10\n",
      "1/1 [==============================] - 0s 17ms/step - loss: 0.5775 - accuracy: 1.0000\n",
      "Epoch 6/10\n",
      "1/1 [==============================] - 0s 16ms/step - loss: 0.5561 - accuracy: 1.0000\n",
      "Epoch 7/10\n",
      "1/1 [==============================] - 0s 16ms/step - loss: 0.5367 - accuracy: 1.0000\n",
      "Epoch 8/10\n",
      "1/1 [==============================] - 0s 17ms/step - loss: 0.5189 - accuracy: 1.0000\n",
      "Epoch 9/10\n",
      "1/1 [==============================] - 0s 17ms/step - loss: 0.5021 - accuracy: 1.0000\n",
      "Epoch 10/10\n",
      "1/1 [==============================] - 0s 21ms/step - loss: 0.4866 - accuracy: 1.0000\n"
     ]
    },
    {
     "data": {
      "text/plain": [
       "<keras.callbacks.History at 0x7fab14a42f90>"
      ]
     },
     "execution_count": 22,
     "metadata": {},
     "output_type": "execute_result"
    }
   ],
   "source": [
    "from tensorflow.keras.optimizers import SGD\n",
    "\n",
    "# compile network\n",
    "opt = SGD(lr=0.01,decay=1e-6)\n",
    "model.compile(loss = \"binary_crossentropy\", optimizer = opt,metrics=['accuracy'])\n",
    "#model.compile(loss='binary_crossentropy', optimizer='adam',  metrics=['accuracy'])\n",
    "# fit network\n",
    "model.fit(data, y, epochs=10, verbose=1)"
   ]
  }
 ],
 "metadata": {
  "colab": {
   "authorship_tag": "ABX9TyO2gqYCoGcefG30AfDPLP+A",
   "name": "SA Demo.ipynb",
   "provenance": []
  },
  "kernelspec": {
   "display_name": "Python 3 (ipykernel)",
   "language": "python",
   "name": "python3"
  },
  "language_info": {
   "codemirror_mode": {
    "name": "ipython",
    "version": 3
   },
   "file_extension": ".py",
   "mimetype": "text/x-python",
   "name": "python",
   "nbconvert_exporter": "python",
   "pygments_lexer": "ipython3",
   "version": "3.9.7"
  }
 },
 "nbformat": 4,
 "nbformat_minor": 1
}
