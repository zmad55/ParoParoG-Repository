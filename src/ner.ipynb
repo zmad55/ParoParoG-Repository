{
 "cells": [
  {
   "cell_type": "code",
   "execution_count": null,
   "id": "81b2600f",
   "metadata": {},
   "outputs": [
    {
     "name": "stdout",
     "output_type": "stream",
     "text": [
      "Requirement already satisfied: PyPDF2 in d:\\anaconda3\\lib\\site-packages (1.26.0)\n",
      "Requirement already satisfied: nltk in d:\\anaconda3\\lib\\site-packages (3.6.5)\n",
      "Requirement already satisfied: click in d:\\anaconda3\\lib\\site-packages (from nltk) (8.0.3)\n",
      "Requirement already satisfied: joblib in d:\\anaconda3\\lib\\site-packages (from nltk) (1.1.0)\n",
      "Requirement already satisfied: regex>=2021.8.3 in d:\\anaconda3\\lib\\site-packages (from nltk) (2021.8.3)\n",
      "Requirement already satisfied: tqdm in d:\\anaconda3\\lib\\site-packages (from nltk) (4.62.3)\n",
      "Requirement already satisfied: colorama in d:\\anaconda3\\lib\\site-packages (from click->nltk) (0.4.4)\n",
      "Requirement already satisfied: pdfminer in d:\\anaconda3\\lib\\site-packages (20191125)\n",
      "Requirement already satisfied: pycryptodome in d:\\anaconda3\\lib\\site-packages (from pdfminer) (3.14.1)\n"
     ]
    }
   ],
   "source": [
    "# Installations of libraries\n",
    "!pip install PyPDF2\n",
    "!pip install nltk\n",
    "!pip install pdfminer\n",
    "!pip install tensorflow"
   ]
  },
  {
   "cell_type": "code",
   "execution_count": null,
   "id": "115770cf",
   "metadata": {},
   "outputs": [],
   "source": [
    "# nltk download\n",
    "nltk.download('punkt')"
   ]
  },
  {
   "cell_type": "code",
   "execution_count": 102,
   "id": "21c51794",
   "metadata": {},
   "outputs": [
    {
     "ename": "ModuleNotFoundError",
     "evalue": "No module named 'tensorflow'",
     "output_type": "error",
     "traceback": [
      "\u001b[1;31m---------------------------------------------------------------------------\u001b[0m",
      "\u001b[1;31mModuleNotFoundError\u001b[0m                       Traceback (most recent call last)",
      "\u001b[1;32m~\\AppData\\Local\\Temp/ipykernel_17084/2041758798.py\u001b[0m in \u001b[0;36m<module>\u001b[1;34m\u001b[0m\n\u001b[0;32m      7\u001b[0m \u001b[1;33m\u001b[0m\u001b[0m\n\u001b[0;32m      8\u001b[0m \u001b[1;32mimport\u001b[0m \u001b[0mpandas\u001b[0m \u001b[1;32mas\u001b[0m \u001b[0mpd\u001b[0m\u001b[1;33m\u001b[0m\u001b[1;33m\u001b[0m\u001b[0m\n\u001b[1;32m----> 9\u001b[1;33m \u001b[1;32mfrom\u001b[0m \u001b[0mtensorflow\u001b[0m\u001b[1;33m.\u001b[0m\u001b[0mkeras\u001b[0m\u001b[1;33m.\u001b[0m\u001b[0mpreprocessing\u001b[0m\u001b[1;33m.\u001b[0m\u001b[0mtext\u001b[0m \u001b[1;32mimport\u001b[0m \u001b[0mTokenizer\u001b[0m\u001b[1;33m\u001b[0m\u001b[1;33m\u001b[0m\u001b[0m\n\u001b[0m\u001b[0;32m     10\u001b[0m \u001b[1;33m\u001b[0m\u001b[0m\n\u001b[0;32m     11\u001b[0m \u001b[1;32mimport\u001b[0m \u001b[0mio\u001b[0m\u001b[1;33m\u001b[0m\u001b[1;33m\u001b[0m\u001b[0m\n",
      "\u001b[1;31mModuleNotFoundError\u001b[0m: No module named 'tensorflow'"
     ]
    }
   ],
   "source": [
    "# Imports\n",
    "from PyPDF2 import PdfFileReader, PdfFileWriter\n",
    "from pdfminer.pdfinterp import PDFResourceManager, PDFPageInterpreter\n",
    "from pdfminer.pdfpage import PDFPage\n",
    "from pdfminer.converter import TextConverter\n",
    "from pdfminer.layout import LAParams\n",
    "\n",
    "import pandas as pd\n",
    "from tensorflow.keras.preprocessing.text import Tokenizer\n",
    "\n",
    "import io\n",
    "import nltk"
   ]
  },
  {
   "cell_type": "code",
   "execution_count": 83,
   "id": "5db866f0",
   "metadata": {},
   "outputs": [],
   "source": [
    "# Initiate pdf file\n",
    "pdf_file = \"../res/who_int_0.pdf\"\n",
    "# Initiate dump file\n",
    "temp_text = \"../dump/temp.txt\""
   ]
  },
  {
   "cell_type": "code",
   "execution_count": 84,
   "id": "0ac78e3a",
   "metadata": {},
   "outputs": [],
   "source": [
    "# https://stackoverflow.com/questions/64467930/python-pypdf2-extracttext-not-working\n",
    "inFile = open(pdf_file, 'rb')\n",
    "resMgr = PDFResourceManager()\n",
    "retData = io.StringIO()\n",
    "TxtConverter = TextConverter(resMgr, retData,laparams = LAParams())\n",
    "interpreter = PDFPageInterpreter(resMgr, TxtConverter)\n",
    "\n",
    "# Process each pages\n",
    "for page in PDFPage.get_pages(inFile): \n",
    "    interpreter.process_page(page)\n",
    "\n",
    "# Write to text temporary file\n",
    "txt = retData.getvalue()\n",
    "with open(temp_text, 'w') as f: \n",
    "     f.write(txt)"
   ]
  },
  {
   "cell_type": "code",
   "execution_count": 85,
   "id": "e987a25c",
   "metadata": {},
   "outputs": [],
   "source": [
    "raw = open(outTXTFile).read()"
   ]
  },
  {
   "cell_type": "code",
   "execution_count": 86,
   "id": "4766423d",
   "metadata": {},
   "outputs": [
    {
     "data": {
      "text/plain": [
       "7876"
      ]
     },
     "execution_count": 86,
     "metadata": {},
     "output_type": "execute_result"
    }
   ],
   "source": [
    "# Length of raw text file\n",
    "len(raw)"
   ]
  },
  {
   "cell_type": "code",
   "execution_count": 87,
   "id": "63545c9f",
   "metadata": {},
   "outputs": [
    {
     "data": {
      "text/plain": [
       "str"
      ]
     },
     "execution_count": 87,
     "metadata": {},
     "output_type": "execute_result"
    }
   ],
   "source": [
    "# Type of raw text file\n",
    "type(raw)"
   ]
  },
  {
   "cell_type": "code",
   "execution_count": 100,
   "id": "cf86c80b",
   "metadata": {},
   "outputs": [],
   "source": [
    "# Initialize Tokenizer\n",
    "tokens = nltk.word_tokenize(raw)"
   ]
  },
  {
   "cell_type": "code",
   "execution_count": 101,
   "id": "efaa9ddc",
   "metadata": {},
   "outputs": [
    {
     "ename": "NameError",
     "evalue": "name 'Tokenizer' is not defined",
     "output_type": "error",
     "traceback": [
      "\u001b[1;31m---------------------------------------------------------------------------\u001b[0m",
      "\u001b[1;31mNameError\u001b[0m                                 Traceback (most recent call last)",
      "\u001b[1;32m~\\AppData\\Local\\Temp/ipykernel_17084/4265477405.py\u001b[0m in \u001b[0;36m<module>\u001b[1;34m\u001b[0m\n\u001b[1;32m----> 1\u001b[1;33m \u001b[0mtokenizer\u001b[0m \u001b[1;33m=\u001b[0m \u001b[0mTokenizer\u001b[0m\u001b[1;33m(\u001b[0m\u001b[0mraw\u001b[0m\u001b[1;33m)\u001b[0m\u001b[1;33m\u001b[0m\u001b[1;33m\u001b[0m\u001b[0m\n\u001b[0m",
      "\u001b[1;31mNameError\u001b[0m: name 'Tokenizer' is not defined"
     ]
    }
   ],
   "source": [
    "tokenizer = Tokenizer(raw)"
   ]
  },
  {
   "cell_type": "code",
   "execution_count": 90,
   "id": "98f8bbc8",
   "metadata": {},
   "outputs": [
    {
     "data": {
      "text/plain": [
       "1353"
      ]
     },
     "execution_count": 90,
     "metadata": {},
     "output_type": "execute_result"
    }
   ],
   "source": [
    "# Length of tokenized text file\n",
    "len(tokens)"
   ]
  },
  {
   "cell_type": "code",
   "execution_count": 96,
   "id": "1424d7da",
   "metadata": {},
   "outputs": [
    {
     "data": {
      "text/plain": [
       "list"
      ]
     },
     "execution_count": 96,
     "metadata": {},
     "output_type": "execute_result"
    }
   ],
   "source": [
    "# Type of tokenized text file\n",
    "type(tokens)"
   ]
  },
  {
   "cell_type": "code",
   "execution_count": 97,
   "id": "ac9f0e0a",
   "metadata": {},
   "outputs": [
    {
     "name": "stdout",
     "output_type": "stream",
     "text": [
      "['3/15/22', ',', '10:32', 'AM', 'Is', 'the', 'pandemic', 'ending', 'soon', '?', 'Western', 'Pacific', 'Philippines', '©', 'Opinion', ':', 'Is', 'the', 'pandemic', 'ending', 'soon', '?', '11', 'March', '2022', 'Statement', '|', 'By', 'Dr', 'Rajendra', 'Yadav', 'and', 'Dr', 'Sangjun', 'Moon', ',', 'WHO', 'Philippines', 'Manila', ',', 'Philippines', '(', '11', 'March', '2022', ')', '–', 'When', 'will', 'this', 'end', '?', 'This', 'question', 'has', 'been', 'on', 'everyone', '’', 's', 'mind', 'for', 'many', 'months', '.', 'We', 'are', 'all', 'tired']\n"
     ]
    }
   ],
   "source": [
    "# Sample print of list\n",
    "print(tokens[0:69])"
   ]
  },
  {
   "cell_type": "code",
   "execution_count": null,
   "id": "f7604d93",
   "metadata": {},
   "outputs": [],
   "source": []
  },
  {
   "cell_type": "code",
   "execution_count": null,
   "id": "e2ab53f2",
   "metadata": {},
   "outputs": [],
   "source": []
  },
  {
   "cell_type": "code",
   "execution_count": null,
   "id": "8a179a71",
   "metadata": {},
   "outputs": [],
   "source": []
  }
 ],
 "metadata": {
  "kernelspec": {
   "display_name": "Python 3 (ipykernel)",
   "language": "python",
   "name": "python3"
  },
  "language_info": {
   "codemirror_mode": {
    "name": "ipython",
    "version": 3
   },
   "file_extension": ".py",
   "mimetype": "text/x-python",
   "name": "python",
   "nbconvert_exporter": "python",
   "pygments_lexer": "ipython3",
   "version": "3.9.7"
  }
 },
 "nbformat": 4,
 "nbformat_minor": 5
}
